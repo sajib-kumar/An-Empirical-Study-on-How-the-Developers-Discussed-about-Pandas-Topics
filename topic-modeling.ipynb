{
 "cells": [
  {
   "cell_type": "code",
   "execution_count": null,
   "metadata": {
    "_cell_guid": "b1076dfc-b9ad-4769-8c92-a6c4dae69d19",
    "_uuid": "8f2839f25d086af736a60e9eeb907d3b93b6e0e5",
    "execution": {
     "iopub.execute_input": "2021-03-27T08:06:34.343913Z",
     "iopub.status.busy": "2021-03-27T08:06:34.343299Z",
     "iopub.status.idle": "2021-03-27T08:06:34.373544Z",
     "shell.execute_reply": "2021-03-27T08:06:34.372812Z"
    },
    "papermill": {
     "duration": 0.070211,
     "end_time": "2021-03-27T08:06:34.373661",
     "exception": false,
     "start_time": "2021-03-27T08:06:34.303450",
     "status": "completed"
    },
    "tags": []
   },
   "outputs": [],
   "source": [
    "# This Python 3 environment comes with many helpful analytics libraries installed\n",
    "# It is defined by the kaggle/python Docker image: https://github.com/kaggle/docker-python\n",
    "# For example, here's several helpful packages to load\n",
    "\n",
    "import numpy as np # linear algebra\n",
    "import pandas as pd # data processing, CSV file I/O (e.g. pd.read_csv)\n",
    "\n",
    "# Input data files are available in the read-only \"../input/\" directory\n",
    "# For example, running this (by clicking run or pressing Shift+Enter) will list all files under the input directory\n",
    "\n",
    "import os\n",
    "for dirname, _, filenames in os.walk('/kaggle/input'):\n",
    "    for filename in filenames:\n",
    "        print(os.path.join(dirname, filename))\n",
    "\n",
    "# You can write up to 20GB to the current directory (/kaggle/working/) that gets preserved as output when you create a version using \"Save & Run All\" \n",
    "# You can also write temporary files to /kaggle/temp/, but they won't be saved outside of the current session"
   ]
  },
  {
   "cell_type": "markdown",
   "metadata": {
    "papermill": {
     "duration": 0.035977,
     "end_time": "2021-03-27T08:06:34.447849",
     "exception": false,
     "start_time": "2021-03-27T08:06:34.411872",
     "status": "completed"
    },
    "tags": []
   },
   "source": [
    "# Libraries"
   ]
  },
  {
   "cell_type": "code",
   "execution_count": null,
   "metadata": {
    "_cell_guid": "79c7e3d0-c299-4dcb-8224-4455121ee9b0",
    "_uuid": "d629ff2d2480ee46fbb7e2d37f6b5fab8052498a",
    "execution": {
     "iopub.execute_input": "2021-03-27T08:06:34.524016Z",
     "iopub.status.busy": "2021-03-27T08:06:34.523390Z",
     "iopub.status.idle": "2021-03-27T08:06:37.480527Z",
     "shell.execute_reply": "2021-03-27T08:06:37.479736Z"
    },
    "papermill": {
     "duration": 2.996196,
     "end_time": "2021-03-27T08:06:37.480680",
     "exception": false,
     "start_time": "2021-03-27T08:06:34.484484",
     "status": "completed"
    },
    "tags": []
   },
   "outputs": [],
   "source": [
    "import pandas \n",
    "import pickle\n",
    "import nltk\n",
    "\n",
    "import pyLDAvis\n",
    "import pyLDAvis.gensim\n",
    "import gensim\n",
    "import gensim.corpora as corpora\n",
    "from gensim.models.ldamodel import LdaModel\n",
    "\n",
    "from gensim.models import CoherenceModel\n",
    "import spacy\n",
    "from pprint import pprint\n",
    "\n",
    "import seaborn as sns\n",
    "import matplotlib.pyplot as plt\n",
    "from gensim.utils import simple_preprocess\n",
    "\n",
    "nltk.download('stopwords')\n"
   ]
  },
  {
   "cell_type": "code",
   "execution_count": null,
   "metadata": {
    "execution": {
     "iopub.execute_input": "2021-03-27T08:06:37.565187Z",
     "iopub.status.busy": "2021-03-27T08:06:37.564563Z",
     "iopub.status.idle": "2021-03-27T08:06:37.570611Z",
     "shell.execute_reply": "2021-03-27T08:06:37.571093Z"
    },
    "papermill": {
     "duration": 0.05319,
     "end_time": "2021-03-27T08:06:37.571224",
     "exception": false,
     "start_time": "2021-03-27T08:06:37.518034",
     "status": "completed"
    },
    "tags": []
   },
   "outputs": [],
   "source": [
    "%cd /kaggle/working\n",
    "from IPython.display import FileLink\n",
    "FileLink(r'topic_wise_pandas_related_sentences.csv')"
   ]
  },
  {
   "cell_type": "markdown",
   "metadata": {
    "papermill": {
     "duration": 0.037895,
     "end_time": "2021-03-27T08:06:37.647130",
     "exception": false,
     "start_time": "2021-03-27T08:06:37.609235",
     "status": "completed"
    },
    "tags": []
   },
   "source": [
    "# Preprocessing"
   ]
  },
  {
   "cell_type": "code",
   "execution_count": null,
   "metadata": {
    "execution": {
     "iopub.execute_input": "2021-03-27T08:06:37.736098Z",
     "iopub.status.busy": "2021-03-27T08:06:37.735437Z",
     "iopub.status.idle": "2021-03-27T08:06:37.738537Z",
     "shell.execute_reply": "2021-03-27T08:06:37.738004Z"
    },
    "papermill": {
     "duration": 0.052791,
     "end_time": "2021-03-27T08:06:37.738643",
     "exception": false,
     "start_time": "2021-03-27T08:06:37.685852",
     "status": "completed"
    },
    "tags": []
   },
   "outputs": [],
   "source": [
    "\n",
    "def process_words(texts, stop_words,nlp,bigram_mod, trigram_mod, allowed_tags=['NOUN', 'ADJ', 'VERB', 'ADV']):\n",
    "    \"\"\"Convert a document into a list of lowercase tokens, build bigrams-trigrams, implement lemmatization\"\"\"\n",
    "\n",
    "    # remove stopwords, short tokens and letter accents\n",
    "    texts = [[word for word in simple_preprocess(str(doc), deacc=True, min_len=3) if word not in stop_words] for doc in\n",
    "             texts]\n",
    "\n",
    "    # bi-gram and tri-gram implementation\n",
    "    texts = [bigram_mod[doc] for doc in texts]\n",
    "    texts = [trigram_mod[bigram_mod[doc]] for doc in texts]\n",
    "\n",
    "    texts_out = []\n",
    "\n",
    "    # implement lemmatization and filter out unwanted part of speech tags\n",
    "    for sent in texts:\n",
    "        doc = nlp(\" \".join(sent))\n",
    "        texts_out.append([token.lemma_ for token in doc if token.pos_ in allowed_tags])\n",
    "\n",
    "    # remove stopwords and short tokens again after lemmatization\n",
    "    texts_out = [[word for word in simple_preprocess(str(doc), deacc=True, min_len=3) if word not in stop_words] for doc\n",
    "                 in texts_out]\n",
    "\n",
    "    return texts_out"
   ]
  },
  {
   "cell_type": "code",
   "execution_count": null,
   "metadata": {
    "execution": {
     "iopub.execute_input": "2021-03-27T08:06:37.823604Z",
     "iopub.status.busy": "2021-03-27T08:06:37.822955Z",
     "iopub.status.idle": "2021-03-27T08:06:37.995867Z",
     "shell.execute_reply": "2021-03-27T08:06:37.995166Z"
    },
    "papermill": {
     "duration": 0.218466,
     "end_time": "2021-03-27T08:06:37.995977",
     "exception": false,
     "start_time": "2021-03-27T08:06:37.777511",
     "status": "completed"
    },
    "tags": []
   },
   "outputs": [],
   "source": [
    "df = pandas.read_csv('../input/tosem-iot-security/pandas.csv')\n",
    "\n",
    "data = list(df.sentence)\n",
    "\n"
   ]
  },
  {
   "cell_type": "code",
   "execution_count": null,
   "metadata": {
    "execution": {
     "iopub.execute_input": "2021-03-27T08:06:38.127109Z",
     "iopub.status.busy": "2021-03-27T08:06:38.116688Z",
     "iopub.status.idle": "2021-03-27T08:06:57.637411Z",
     "shell.execute_reply": "2021-03-27T08:06:57.636831Z"
    },
    "papermill": {
     "duration": 19.602375,
     "end_time": "2021-03-27T08:06:57.637537",
     "exception": false,
     "start_time": "2021-03-27T08:06:38.035162",
     "status": "completed"
    },
    "tags": []
   },
   "outputs": [],
   "source": [
    "\n",
    "\n",
    "####### bi & tri-gram #############################################################\n",
    "bigram = gensim.models.Phrases(data, min_count=20, threshold=100)\n",
    "trigram = gensim.models.Phrases(bigram[data], threshold=100)\n",
    "\n",
    "bigram_mod = gensim.models.phrases.Phraser(bigram)\n",
    "trigram_mod = gensim.models.phrases.Phraser(trigram)\n"
   ]
  },
  {
   "cell_type": "markdown",
   "metadata": {
    "papermill": {
     "duration": 0.0385,
     "end_time": "2021-03-27T08:06:57.714599",
     "exception": false,
     "start_time": "2021-03-27T08:06:57.676099",
     "status": "completed"
    },
    "tags": []
   },
   "source": [
    "Data Preprocessing"
   ]
  },
  {
   "cell_type": "code",
   "execution_count": null,
   "metadata": {
    "execution": {
     "iopub.execute_input": "2021-03-27T08:06:57.798565Z",
     "iopub.status.busy": "2021-03-27T08:06:57.797660Z",
     "iopub.status.idle": "2021-03-27T08:08:50.729646Z",
     "shell.execute_reply": "2021-03-27T08:08:50.730486Z"
    },
    "papermill": {
     "duration": 112.97793,
     "end_time": "2021-03-27T08:08:50.730719",
     "exception": false,
     "start_time": "2021-03-27T08:06:57.752789",
     "status": "completed"
    },
    "tags": []
   },
   "outputs": [],
   "source": [
    "\n",
    "nlp = spacy.load('en_core_web_sm', disable=['parser', 'ner'])\n",
    "stop_words = nltk.corpus.stopwords.words('english')\n",
    "\n",
    "data_ready = process_words(data,stop_words,nlp,bigram_mod,trigram_mod)\n",
    "id2word = corpora.Dictionary(data_ready)\n",
    "print('Total Vocabulary Size:', len(id2word))\n"
   ]
  },
  {
   "cell_type": "markdown",
   "metadata": {
    "papermill": {
     "duration": 0.038643,
     "end_time": "2021-03-27T08:08:50.809506",
     "exception": false,
     "start_time": "2021-03-27T08:08:50.770863",
     "status": "completed"
    },
    "tags": []
   },
   "source": [
    "Frequency of Words"
   ]
  },
  {
   "cell_type": "code",
   "execution_count": null,
   "metadata": {
    "execution": {
     "iopub.execute_input": "2021-03-27T08:08:50.938848Z",
     "iopub.status.busy": "2021-03-27T08:08:50.928556Z",
     "iopub.status.idle": "2021-03-27T08:08:52.154818Z",
     "shell.execute_reply": "2021-03-27T08:08:52.155305Z"
    },
    "papermill": {
     "duration": 1.307272,
     "end_time": "2021-03-27T08:08:52.155477",
     "exception": false,
     "start_time": "2021-03-27T08:08:50.848205",
     "status": "completed"
    },
    "tags": []
   },
   "outputs": [],
   "source": [
    "corpus = [id2word.doc2bow(text) for text in data_ready]\n",
    "dict_corpus = {}\n",
    "\n",
    "for i in range(len(corpus)):\n",
    "    for idx, freq in corpus[i]:\n",
    "        if id2word[idx] in dict_corpus:\n",
    "            dict_corpus[id2word[idx]] += freq\n",
    "        else:\n",
    "            dict_corpus[id2word[idx]] = freq\n",
    "\n",
    "dict_df = pandas.DataFrame.from_dict(dict_corpus, orient='index', columns=['freq'])\n",
    "\n"
   ]
  },
  {
   "cell_type": "markdown",
   "metadata": {
    "papermill": {
     "duration": 0.038738,
     "end_time": "2021-03-27T08:08:52.233928",
     "exception": false,
     "start_time": "2021-03-27T08:08:52.195190",
     "status": "completed"
    },
    "tags": []
   },
   "source": [
    "Plot"
   ]
  },
  {
   "cell_type": "code",
   "execution_count": null,
   "metadata": {
    "execution": {
     "iopub.execute_input": "2021-03-27T08:08:52.316756Z",
     "iopub.status.busy": "2021-03-27T08:08:52.316090Z",
     "iopub.status.idle": "2021-03-27T08:08:52.701371Z",
     "shell.execute_reply": "2021-03-27T08:08:52.700906Z"
    },
    "papermill": {
     "duration": 0.428881,
     "end_time": "2021-03-27T08:08:52.701482",
     "exception": false,
     "start_time": "2021-03-27T08:08:52.272601",
     "status": "completed"
    },
    "tags": []
   },
   "outputs": [],
   "source": [
    "\n",
    "plt.figure(figsize=(8, 6))\n",
    "sns.distplot(dict_df['freq'], bins=100)\n"
   ]
  },
  {
   "cell_type": "markdown",
   "metadata": {
    "papermill": {
     "duration": 0.040844,
     "end_time": "2021-03-27T08:08:52.782553",
     "exception": false,
     "start_time": "2021-03-27T08:08:52.741709",
     "status": "completed"
    },
    "tags": []
   },
   "source": [
    "Filtering"
   ]
  },
  {
   "cell_type": "code",
   "execution_count": null,
   "metadata": {
    "execution": {
     "iopub.execute_input": "2021-03-27T08:08:52.870208Z",
     "iopub.status.busy": "2021-03-27T08:08:52.869617Z",
     "iopub.status.idle": "2021-03-27T08:08:53.055748Z",
     "shell.execute_reply": "2021-03-27T08:08:53.055132Z"
    },
    "papermill": {
     "duration": 0.232958,
     "end_time": "2021-03-27T08:08:53.055874",
     "exception": false,
     "start_time": "2021-03-27T08:08:52.822916",
     "status": "completed"
    },
    "tags": []
   },
   "outputs": [],
   "source": [
    "\n",
    "dict_df.sort_values('freq', ascending = False).head(10)\n",
    "extension = dict_df[dict_df.freq > 1500].index.tolist()\n",
    "\n",
    "ids = [id2word.token2id[extension[i]] for i in range(len(extension))]\n",
    "id2word.filter_tokens(bad_ids=ids)\n",
    "\n"
   ]
  },
  {
   "cell_type": "markdown",
   "metadata": {
    "papermill": {
     "duration": 0.040789,
     "end_time": "2021-03-27T08:08:53.137500",
     "exception": false,
     "start_time": "2021-03-27T08:08:53.096711",
     "status": "completed"
    },
    "tags": []
   },
   "source": [
    "Most frequently used words removal"
   ]
  },
  {
   "cell_type": "code",
   "execution_count": null,
   "metadata": {
    "execution": {
     "iopub.execute_input": "2021-03-27T08:08:53.238833Z",
     "iopub.status.busy": "2021-03-27T08:08:53.233541Z",
     "iopub.status.idle": "2021-03-27T08:10:37.572239Z",
     "shell.execute_reply": "2021-03-27T08:10:37.572774Z"
    },
    "papermill": {
     "duration": 104.394752,
     "end_time": "2021-03-27T08:10:37.572935",
     "exception": false,
     "start_time": "2021-03-27T08:08:53.178183",
     "status": "completed"
    },
    "tags": []
   },
   "outputs": [],
   "source": [
    "# add high frequency words to stop words list\n",
    "stop_words.extend(extension)\n",
    "# rerun the process_words function\n",
    "data_ready = process_words(data,stop_words,nlp,bigram_mod,trigram_mod)\n",
    "# recreate Dictionary\n",
    "id2word = corpora.Dictionary(data_ready)\n",
    "print('Total Vocabulary Size:', len(id2word))\n",
    "\n",
    "\n",
    "\n"
   ]
  },
  {
   "cell_type": "markdown",
   "metadata": {
    "papermill": {
     "duration": 0.041403,
     "end_time": "2021-03-27T08:10:37.655411",
     "exception": false,
     "start_time": "2021-03-27T08:10:37.614008",
     "status": "completed"
    },
    "tags": []
   },
   "source": [
    "Extreme word removal"
   ]
  },
  {
   "cell_type": "code",
   "execution_count": null,
   "metadata": {
    "execution": {
     "iopub.execute_input": "2021-03-27T08:10:37.778834Z",
     "iopub.status.busy": "2021-03-27T08:10:37.756402Z",
     "iopub.status.idle": "2021-03-27T08:10:37.783775Z",
     "shell.execute_reply": "2021-03-27T08:10:37.784509Z"
    },
    "papermill": {
     "duration": 0.088306,
     "end_time": "2021-03-27T08:10:37.784674",
     "exception": false,
     "start_time": "2021-03-27T08:10:37.696368",
     "status": "completed"
    },
    "tags": []
   },
   "outputs": [],
   "source": [
    "\n",
    "\n",
    "##extreme words\n",
    "\n",
    "id2word.filter_extremes(no_below=10, no_above=.5)\n",
    "print('Total Vocabulary Size:', len(id2word))\n",
    "\n",
    "\n",
    "\n",
    "\n"
   ]
  },
  {
   "cell_type": "markdown",
   "metadata": {
    "papermill": {
     "duration": 0.041336,
     "end_time": "2021-03-27T08:10:37.867914",
     "exception": false,
     "start_time": "2021-03-27T08:10:37.826578",
     "status": "completed"
    },
    "tags": []
   },
   "source": [
    "Final Vocabulary"
   ]
  },
  {
   "cell_type": "code",
   "execution_count": null,
   "metadata": {
    "execution": {
     "iopub.execute_input": "2021-03-27T08:10:37.974612Z",
     "iopub.status.busy": "2021-03-27T08:10:37.969513Z",
     "iopub.status.idle": "2021-03-27T08:10:38.480693Z",
     "shell.execute_reply": "2021-03-27T08:10:38.480107Z"
    },
    "papermill": {
     "duration": 0.571477,
     "end_time": "2021-03-27T08:10:38.480806",
     "exception": false,
     "start_time": "2021-03-27T08:10:37.909329",
     "status": "completed"
    },
    "tags": []
   },
   "outputs": [],
   "source": [
    "corpus = [id2word.doc2bow(text) for text in data_ready]"
   ]
  },
  {
   "cell_type": "markdown",
   "metadata": {
    "papermill": {
     "duration": 0.041573,
     "end_time": "2021-03-27T08:10:38.564976",
     "exception": false,
     "start_time": "2021-03-27T08:10:38.523403",
     "status": "completed"
    },
    "tags": []
   },
   "source": [
    "# Mallet"
   ]
  },
  {
   "cell_type": "code",
   "execution_count": null,
   "metadata": {
    "execution": {
     "iopub.execute_input": "2021-03-27T08:10:38.654569Z",
     "iopub.status.busy": "2021-03-27T08:10:38.653908Z",
     "iopub.status.idle": "2021-03-27T08:10:41.064867Z",
     "shell.execute_reply": "2021-03-27T08:10:41.064110Z"
    },
    "papermill": {
     "duration": 2.45811,
     "end_time": "2021-03-27T08:10:41.064986",
     "exception": false,
     "start_time": "2021-03-27T08:10:38.606876",
     "status": "completed"
    },
    "tags": []
   },
   "outputs": [],
   "source": [
    "!wget http://mallet.cs.umass.edu/dist/mallet-2.0.8.zip"
   ]
  },
  {
   "cell_type": "code",
   "execution_count": null,
   "metadata": {
    "execution": {
     "iopub.execute_input": "2021-03-27T08:10:41.169375Z",
     "iopub.status.busy": "2021-03-27T08:10:41.168638Z",
     "iopub.status.idle": "2021-03-27T08:10:42.270623Z",
     "shell.execute_reply": "2021-03-27T08:10:42.270082Z"
    },
    "papermill": {
     "duration": 1.160033,
     "end_time": "2021-03-27T08:10:42.270743",
     "exception": false,
     "start_time": "2021-03-27T08:10:41.110710",
     "status": "completed"
    },
    "tags": []
   },
   "outputs": [],
   "source": [
    "!unzip mallet-2.0.8.zip"
   ]
  },
  {
   "cell_type": "code",
   "execution_count": null,
   "metadata": {
    "execution": {
     "iopub.execute_input": "2021-03-27T08:10:42.381579Z",
     "iopub.status.busy": "2021-03-27T08:10:42.380918Z",
     "iopub.status.idle": "2021-03-27T08:10:42.384178Z",
     "shell.execute_reply": "2021-03-27T08:10:42.383595Z"
    },
    "papermill": {
     "duration": 0.060304,
     "end_time": "2021-03-27T08:10:42.384284",
     "exception": false,
     "start_time": "2021-03-27T08:10:42.323980",
     "status": "completed"
    },
    "tags": []
   },
   "outputs": [],
   "source": [
    "mallet_path = 'mallet-2.0.8/bin/mallet'"
   ]
  },
  {
   "cell_type": "code",
   "execution_count": null,
   "metadata": {
    "execution": {
     "iopub.execute_input": "2021-03-27T08:10:42.500646Z",
     "iopub.status.busy": "2021-03-27T08:10:42.499527Z",
     "iopub.status.idle": "2021-03-27T08:10:43.217834Z",
     "shell.execute_reply": "2021-03-27T08:10:43.217251Z"
    },
    "papermill": {
     "duration": 0.780816,
     "end_time": "2021-03-27T08:10:43.217954",
     "exception": false,
     "start_time": "2021-03-27T08:10:42.437138",
     "status": "completed"
    },
    "tags": []
   },
   "outputs": [],
   "source": [
    "ls __notebook_source__.ipynb"
   ]
  },
  {
   "cell_type": "code",
   "execution_count": null,
   "metadata": {
    "papermill": {
     "duration": 0.053248,
     "end_time": "2021-03-27T08:10:43.324751",
     "exception": false,
     "start_time": "2021-03-27T08:10:43.271503",
     "status": "completed"
    },
    "tags": []
   },
   "outputs": [],
   "source": []
  },
  {
   "cell_type": "markdown",
   "metadata": {
    "papermill": {
     "duration": 0.052755,
     "end_time": "2021-03-27T08:10:43.430205",
     "exception": false,
     "start_time": "2021-03-27T08:10:43.377450",
     "status": "completed"
    },
    "tags": []
   },
   "source": [
    "# Grid Searching"
   ]
  },
  {
   "cell_type": "code",
   "execution_count": null,
   "metadata": {
    "execution": {
     "iopub.execute_input": "2021-03-27T08:10:43.546330Z",
     "iopub.status.busy": "2021-03-27T08:10:43.545701Z",
     "iopub.status.idle": "2021-03-27T08:10:43.548661Z",
     "shell.execute_reply": "2021-03-27T08:10:43.549140Z"
    },
    "papermill": {
     "duration": 0.065647,
     "end_time": "2021-03-27T08:10:43.549273",
     "exception": false,
     "start_time": "2021-03-27T08:10:43.483626",
     "status": "completed"
    },
    "tags": []
   },
   "outputs": [],
   "source": [
    "def coherence_values_computation(dictionary, corpus, texts, limit, start=2, step=3):\n",
    "    coherence_values = []\n",
    "    model_list = []\n",
    "    for num_topics in range(start, limit, step):\n",
    "        model = gensim.models.wrappers.LdaMallet(\n",
    "             mallet_path, corpus=corpus, num_topics=num_topics, id2word=id2word)\n",
    "        model_list.append(model)\n",
    "        coherencemodel = CoherenceModel(\n",
    "              model=model, texts=texts, dictionary=dictionary, coherence='c_v')\n",
    "        coherence_values.append(coherencemodel.get_coherence())\n",
    "    return model_list, coherence_values"
   ]
  },
  {
   "cell_type": "code",
   "execution_count": null,
   "metadata": {
    "execution": {
     "iopub.execute_input": "2021-03-27T08:10:43.663920Z",
     "iopub.status.busy": "2021-03-27T08:10:43.663207Z",
     "iopub.status.idle": "2021-03-27T08:12:56.616530Z",
     "shell.execute_reply": "2021-03-27T08:12:56.617043Z"
    },
    "papermill": {
     "duration": 133.014885,
     "end_time": "2021-03-27T08:12:56.617174",
     "exception": false,
     "start_time": "2021-03-27T08:10:43.602289",
     "status": "completed"
    },
    "tags": []
   },
   "outputs": [],
   "source": [
    "model_list, coherence_values = coherence_values_computation (\n",
    "   dictionary=id2word, corpus=corpus, texts=data_ready, \n",
    "   start=10, limit=13, step=1)\n",
    "limit=13; start=10; step=1;\n",
    "x = range(start, limit, step)\n",
    "plt.plot(x, coherence_values)\n",
    "plt.xlabel(\"Num Topics\")\n",
    "plt.ylabel(\"Coherence score\")\n",
    "plt.legend((\"coherence_values\"), loc='best')\n",
    "plt.show()"
   ]
  },
  {
   "cell_type": "code",
   "execution_count": null,
   "metadata": {
    "execution": {
     "iopub.execute_input": "2021-03-27T08:12:56.729742Z",
     "iopub.status.busy": "2021-03-27T08:12:56.729064Z",
     "iopub.status.idle": "2021-03-27T08:12:56.737059Z",
     "shell.execute_reply": "2021-03-27T08:12:56.737607Z"
    },
    "papermill": {
     "duration": 0.066154,
     "end_time": "2021-03-27T08:12:56.737746",
     "exception": false,
     "start_time": "2021-03-27T08:12:56.671592",
     "status": "completed"
    },
    "tags": []
   },
   "outputs": [],
   "source": [
    "for m, cv in zip(x, coherence_values):\n",
    "    print(\"Num Topics =\", m, \" is having Coherence Value of\", round(cv, 4))"
   ]
  },
  {
   "cell_type": "markdown",
   "metadata": {
    "papermill": {
     "duration": 0.054424,
     "end_time": "2021-03-27T08:12:56.846658",
     "exception": false,
     "start_time": "2021-03-27T08:12:56.792234",
     "status": "completed"
    },
    "tags": []
   },
   "source": [
    "12 with .4296"
   ]
  },
  {
   "cell_type": "markdown",
   "metadata": {
    "papermill": {
     "duration": 0.05423,
     "end_time": "2021-03-27T08:12:56.955058",
     "exception": false,
     "start_time": "2021-03-27T08:12:56.900828",
     "status": "completed"
    },
    "tags": []
   },
   "source": [
    "# Model Selection"
   ]
  },
  {
   "cell_type": "code",
   "execution_count": null,
   "metadata": {
    "execution": {
     "iopub.execute_input": "2021-03-27T08:12:57.110125Z",
     "iopub.status.busy": "2021-03-27T08:12:57.070058Z",
     "iopub.status.idle": "2021-03-27T08:13:38.463706Z",
     "shell.execute_reply": "2021-03-27T08:13:38.462526Z"
    },
    "papermill": {
     "duration": 41.454573,
     "end_time": "2021-03-27T08:13:38.464029",
     "exception": false,
     "start_time": "2021-03-27T08:12:57.009456",
     "status": "completed"
    },
    "tags": []
   },
   "outputs": [],
   "source": [
    "ldamallet = gensim.models.wrappers.LdaMallet(\n",
    "             mallet_path, corpus=corpus, num_topics=12, id2word=id2word)"
   ]
  },
  {
   "cell_type": "code",
   "execution_count": null,
   "metadata": {
    "execution": {
     "iopub.execute_input": "2021-03-27T08:13:38.585699Z",
     "iopub.status.busy": "2021-03-27T08:13:38.584976Z",
     "iopub.status.idle": "2021-03-27T08:13:38.589767Z",
     "shell.execute_reply": "2021-03-27T08:13:38.589175Z"
    },
    "papermill": {
     "duration": 0.067047,
     "end_time": "2021-03-27T08:13:38.589885",
     "exception": false,
     "start_time": "2021-03-27T08:13:38.522838",
     "status": "completed"
    },
    "tags": []
   },
   "outputs": [],
   "source": [
    "coherencemodel = CoherenceModel(\n",
    "              model=ldamallet, texts=data_ready, dictionary=id2word, coherence='c_v')"
   ]
  },
  {
   "cell_type": "code",
   "execution_count": null,
   "metadata": {
    "execution": {
     "iopub.execute_input": "2021-03-27T08:13:38.703556Z",
     "iopub.status.busy": "2021-03-27T08:13:38.702568Z",
     "iopub.status.idle": "2021-03-27T08:13:38.706708Z",
     "shell.execute_reply": "2021-03-27T08:13:38.707243Z"
    },
    "papermill": {
     "duration": 0.062417,
     "end_time": "2021-03-27T08:13:38.707379",
     "exception": false,
     "start_time": "2021-03-27T08:13:38.644962",
     "status": "completed"
    },
    "tags": []
   },
   "outputs": [],
   "source": [
    "# ldamallet = model_list[2]"
   ]
  },
  {
   "cell_type": "code",
   "execution_count": null,
   "metadata": {
    "execution": {
     "iopub.execute_input": "2021-03-27T08:13:38.822932Z",
     "iopub.status.busy": "2021-03-27T08:13:38.821945Z",
     "iopub.status.idle": "2021-03-27T08:13:38.837572Z",
     "shell.execute_reply": "2021-03-27T08:13:38.836553Z"
    },
    "papermill": {
     "duration": 0.074235,
     "end_time": "2021-03-27T08:13:38.837734",
     "exception": false,
     "start_time": "2021-03-27T08:13:38.763499",
     "status": "completed"
    },
    "tags": []
   },
   "outputs": [],
   "source": [
    "new_model_topics = ldamallet.show_topics(formatted=False)\n",
    "pprint(ldamallet.print_topics())"
   ]
  },
  {
   "cell_type": "code",
   "execution_count": null,
   "metadata": {
    "execution": {
     "iopub.execute_input": "2021-03-27T08:13:38.958014Z",
     "iopub.status.busy": "2021-03-27T08:13:38.956996Z",
     "iopub.status.idle": "2021-03-27T08:13:38.973334Z",
     "shell.execute_reply": "2021-03-27T08:13:38.976767Z"
    },
    "papermill": {
     "duration": 0.080871,
     "end_time": "2021-03-27T08:13:38.976930",
     "exception": false,
     "start_time": "2021-03-27T08:13:38.896059",
     "status": "completed"
    },
    "tags": []
   },
   "outputs": [],
   "source": [
    "from pprint import pprint\n",
    "# display topics\n",
    "pprint(ldamallet.show_topics(formatted=False))"
   ]
  },
  {
   "cell_type": "markdown",
   "metadata": {
    "papermill": {
     "duration": 0.057052,
     "end_time": "2021-03-27T08:13:39.091202",
     "exception": false,
     "start_time": "2021-03-27T08:13:39.034150",
     "status": "completed"
    },
    "tags": []
   },
   "source": [
    "# Store Model"
   ]
  },
  {
   "cell_type": "code",
   "execution_count": null,
   "metadata": {
    "execution": {
     "iopub.execute_input": "2021-03-27T08:13:39.212634Z",
     "iopub.status.busy": "2021-03-27T08:13:39.211854Z",
     "iopub.status.idle": "2021-03-27T08:13:39.215873Z",
     "shell.execute_reply": "2021-03-27T08:13:39.215181Z"
    },
    "papermill": {
     "duration": 0.068315,
     "end_time": "2021-03-27T08:13:39.215988",
     "exception": false,
     "start_time": "2021-03-27T08:13:39.147673",
     "status": "completed"
    },
    "tags": []
   },
   "outputs": [],
   "source": [
    "import pickle\n",
    "pickle.dump(ldamallet, open(\"ldamallet_12.p\", \"wb\"))"
   ]
  },
  {
   "cell_type": "code",
   "execution_count": null,
   "metadata": {
    "execution": {
     "iopub.execute_input": "2021-03-27T08:13:39.339676Z",
     "iopub.status.busy": "2021-03-27T08:13:39.338795Z",
     "iopub.status.idle": "2021-03-27T08:13:39.342331Z",
     "shell.execute_reply": "2021-03-27T08:13:39.342826Z"
    },
    "papermill": {
     "duration": 0.070124,
     "end_time": "2021-03-27T08:13:39.342970",
     "exception": false,
     "start_time": "2021-03-27T08:13:39.272846",
     "status": "completed"
    },
    "tags": []
   },
   "outputs": [],
   "source": [
    "ldamallet = pickle.load(open(\"./ldamallet_12.p\", \"rb\"))"
   ]
  },
  {
   "cell_type": "code",
   "execution_count": null,
   "metadata": {
    "execution": {
     "iopub.execute_input": "2021-03-27T08:13:39.461449Z",
     "iopub.status.busy": "2021-03-27T08:13:39.460805Z",
     "iopub.status.idle": "2021-03-27T08:13:48.823181Z",
     "shell.execute_reply": "2021-03-27T08:13:48.822606Z"
    },
    "papermill": {
     "duration": 9.423459,
     "end_time": "2021-03-27T08:13:48.823289",
     "exception": false,
     "start_time": "2021-03-27T08:13:39.399830",
     "status": "completed"
    },
    "tags": []
   },
   "outputs": [],
   "source": [
    "tm_results = ldamallet[corpus]"
   ]
  },
  {
   "cell_type": "code",
   "execution_count": null,
   "metadata": {
    "execution": {
     "iopub.execute_input": "2021-03-27T08:13:48.951610Z",
     "iopub.status.busy": "2021-03-27T08:13:48.946584Z",
     "iopub.status.idle": "2021-03-27T08:13:49.022889Z",
     "shell.execute_reply": "2021-03-27T08:13:49.022191Z"
    },
    "papermill": {
     "duration": 0.142328,
     "end_time": "2021-03-27T08:13:49.023000",
     "exception": false,
     "start_time": "2021-03-27T08:13:48.880672",
     "status": "completed"
    },
    "tags": []
   },
   "outputs": [],
   "source": [
    "corpus_topics = [sorted(topics, key=lambda record: -record[1])[0] for topics in tm_results]"
   ]
  },
  {
   "cell_type": "code",
   "execution_count": null,
   "metadata": {
    "execution": {
     "iopub.execute_input": "2021-03-27T08:13:49.145480Z",
     "iopub.status.busy": "2021-03-27T08:13:49.144795Z",
     "iopub.status.idle": "2021-03-27T08:13:49.154003Z",
     "shell.execute_reply": "2021-03-27T08:13:49.153504Z"
    },
    "papermill": {
     "duration": 0.072383,
     "end_time": "2021-03-27T08:13:49.154125",
     "exception": false,
     "start_time": "2021-03-27T08:13:49.081742",
     "status": "completed"
    },
    "tags": []
   },
   "outputs": [],
   "source": [
    "topics = [[(term, round(wt, 3)) for term, wt in ldamallet.show_topic(n, topn=20)] for n in range(0, ldamallet.num_topics)]"
   ]
  },
  {
   "cell_type": "markdown",
   "metadata": {
    "papermill": {
     "duration": 0.056818,
     "end_time": "2021-03-27T08:13:49.268177",
     "exception": false,
     "start_time": "2021-03-27T08:13:49.211359",
     "status": "completed"
    },
    "tags": []
   },
   "source": [
    "# Topics"
   ]
  },
  {
   "cell_type": "code",
   "execution_count": null,
   "metadata": {
    "execution": {
     "iopub.execute_input": "2021-03-27T08:13:49.408267Z",
     "iopub.status.busy": "2021-03-27T08:13:49.407619Z",
     "iopub.status.idle": "2021-03-27T08:13:49.425659Z",
     "shell.execute_reply": "2021-03-27T08:13:49.425032Z"
    },
    "papermill": {
     "duration": 0.100219,
     "end_time": "2021-03-27T08:13:49.425775",
     "exception": false,
     "start_time": "2021-03-27T08:13:49.325556",
     "status": "completed"
    },
    "tags": []
   },
   "outputs": [],
   "source": [
    "topics_df = pandas.DataFrame([[term for term, wt in topic] for topic in topics], columns = ['Term'+str(i) for i in range(1, 21)], index=['Topic '+str(t) for t in range(1, ldamallet.num_topics+1)]).T\n",
    "topics_df.head()"
   ]
  },
  {
   "cell_type": "code",
   "execution_count": null,
   "metadata": {
    "execution": {
     "iopub.execute_input": "2021-03-27T08:13:49.556144Z",
     "iopub.status.busy": "2021-03-27T08:13:49.555453Z",
     "iopub.status.idle": "2021-03-27T08:13:49.561022Z",
     "shell.execute_reply": "2021-03-27T08:13:49.560502Z"
    },
    "papermill": {
     "duration": 0.077132,
     "end_time": "2021-03-27T08:13:49.561128",
     "exception": false,
     "start_time": "2021-03-27T08:13:49.483996",
     "status": "completed"
    },
    "tags": []
   },
   "outputs": [],
   "source": [
    "# set column width\n",
    "pandas.set_option('display.max_colwidth', -1)\n",
    "topics_df = pandas.DataFrame([', '.join([term for term, wt in topic]) for topic in topics], columns = ['Terms per Topic'], index=['Topic'+str(t) for t in range(1, ldamallet.num_topics+1)] )\n",
    "topics_df"
   ]
  },
  {
   "cell_type": "markdown",
   "metadata": {
    "papermill": {
     "duration": 0.058871,
     "end_time": "2021-03-27T08:13:49.679666",
     "exception": false,
     "start_time": "2021-03-27T08:13:49.620795",
     "status": "completed"
    },
    "tags": []
   },
   "source": [
    "# Gensim Conversion"
   ]
  },
  {
   "cell_type": "code",
   "execution_count": null,
   "metadata": {
    "execution": {
     "iopub.execute_input": "2021-03-27T08:13:49.804952Z",
     "iopub.status.busy": "2021-03-27T08:13:49.804332Z",
     "iopub.status.idle": "2021-03-27T08:13:49.807700Z",
     "shell.execute_reply": "2021-03-27T08:13:49.807199Z"
    },
    "papermill": {
     "duration": 0.06901,
     "end_time": "2021-03-27T08:13:49.807808",
     "exception": false,
     "start_time": "2021-03-27T08:13:49.738798",
     "status": "completed"
    },
    "tags": []
   },
   "outputs": [],
   "source": [
    "def convertldaGenToldaMallet(mallet_model):\n",
    "    model_gensim = LdaModel(\n",
    "        id2word=mallet_model.id2word, num_topics=mallet_model.num_topics,\n",
    "        alpha=mallet_model.alpha, eta=0,\n",
    "    )\n",
    "    model_gensim.state.sstats[...] = mallet_model.wordtopics\n",
    "    model_gensim.sync_state()\n",
    "    return model_gensim"
   ]
  },
  {
   "cell_type": "code",
   "execution_count": null,
   "metadata": {
    "execution": {
     "iopub.execute_input": "2021-03-27T08:13:49.938332Z",
     "iopub.status.busy": "2021-03-27T08:13:49.937685Z",
     "iopub.status.idle": "2021-03-27T08:13:49.945799Z",
     "shell.execute_reply": "2021-03-27T08:13:49.946252Z"
    },
    "papermill": {
     "duration": 0.077217,
     "end_time": "2021-03-27T08:13:49.946391",
     "exception": false,
     "start_time": "2021-03-27T08:13:49.869174",
     "status": "completed"
    },
    "tags": []
   },
   "outputs": [],
   "source": [
    "ldagensim = convertldaGenToldaMallet(ldamallet)"
   ]
  },
  {
   "cell_type": "code",
   "execution_count": null,
   "metadata": {
    "execution": {
     "iopub.execute_input": "2021-03-27T08:13:50.088238Z",
     "iopub.status.busy": "2021-03-27T08:13:50.083048Z",
     "iopub.status.idle": "2021-03-27T08:13:56.806087Z",
     "shell.execute_reply": "2021-03-27T08:13:56.806633Z"
    },
    "papermill": {
     "duration": 6.80197,
     "end_time": "2021-03-27T08:13:56.806781",
     "exception": false,
     "start_time": "2021-03-27T08:13:50.004811",
     "status": "completed"
    },
    "tags": []
   },
   "outputs": [],
   "source": [
    "import pyLDAvis.gensim as gensimvis\n",
    "vis_data = gensimvis.prepare(ldagensim, corpus, id2word, sort_topics=False)\n",
    "pyLDAvis.display(vis_data)"
   ]
  },
  {
   "cell_type": "code",
   "execution_count": null,
   "metadata": {
    "execution": {
     "iopub.execute_input": "2021-03-27T08:13:56.946204Z",
     "iopub.status.busy": "2021-03-27T08:13:56.941012Z",
     "iopub.status.idle": "2021-03-27T08:14:00.093920Z",
     "shell.execute_reply": "2021-03-27T08:14:00.093168Z"
    },
    "papermill": {
     "duration": 3.224369,
     "end_time": "2021-03-27T08:14:00.094056",
     "exception": false,
     "start_time": "2021-03-27T08:13:56.869687",
     "status": "completed"
    },
    "tags": []
   },
   "outputs": [],
   "source": [
    "# create a dataframe\n",
    "corpus_topic_df = pandas.DataFrame()\n",
    "# get the Titles from the original dataframe\n",
    "# corpus_topic_df['SentenceId'] = df.SentenceId\n",
    "corpus_topic_df['Dominant Topic'] = [item[0]+1 for item in corpus_topics]\n",
    "corpus_topic_df['Contribution %'] = [round(item[1]*100, 2) for item in corpus_topics]\n",
    "corpus_topic_df['Topic Terms'] = [topics_df.iloc[t[0]]['Terms per Topic'] for t in corpus_topics]\n",
    "corpus_topic_df.head()"
   ]
  },
  {
   "cell_type": "code",
   "execution_count": null,
   "metadata": {
    "execution": {
     "iopub.execute_input": "2021-03-27T08:14:00.226933Z",
     "iopub.status.busy": "2021-03-27T08:14:00.225905Z",
     "iopub.status.idle": "2021-03-27T08:14:00.255984Z",
     "shell.execute_reply": "2021-03-27T08:14:00.256419Z"
    },
    "papermill": {
     "duration": 0.099758,
     "end_time": "2021-03-27T08:14:00.256587",
     "exception": false,
     "start_time": "2021-03-27T08:14:00.156829",
     "status": "completed"
    },
    "tags": []
   },
   "outputs": [],
   "source": [
    "corpus_topic_df.groupby('Dominant Topic').apply(lambda topic_set: (topic_set.sort_values(by=['Contribution %'], ascending=False).iloc[0])).reset_index(drop=True)"
   ]
  },
  {
   "cell_type": "code",
   "execution_count": null,
   "metadata": {
    "execution": {
     "iopub.execute_input": "2021-03-27T08:14:00.388519Z",
     "iopub.status.busy": "2021-03-27T08:14:00.387905Z",
     "iopub.status.idle": "2021-03-27T08:14:00.392026Z",
     "shell.execute_reply": "2021-03-27T08:14:00.392536Z"
    },
    "papermill": {
     "duration": 0.072827,
     "end_time": "2021-03-27T08:14:00.392672",
     "exception": false,
     "start_time": "2021-03-27T08:14:00.319845",
     "status": "completed"
    },
    "tags": []
   },
   "outputs": [],
   "source": [
    "pprint(tm_results[0])"
   ]
  },
  {
   "cell_type": "code",
   "execution_count": null,
   "metadata": {
    "execution": {
     "iopub.execute_input": "2021-03-27T08:14:00.544227Z",
     "iopub.status.busy": "2021-03-27T08:14:00.538844Z",
     "iopub.status.idle": "2021-03-27T08:14:00.752523Z",
     "shell.execute_reply": "2021-03-27T08:14:00.751885Z"
    },
    "papermill": {
     "duration": 0.29686,
     "end_time": "2021-03-27T08:14:00.752637",
     "exception": false,
     "start_time": "2021-03-27T08:14:00.455777",
     "status": "completed"
    },
    "tags": []
   },
   "outputs": [],
   "source": [
    "df_weights = pandas.DataFrame.from_records([{v: k for v, k in row} for row in tm_results])\n",
    "df_weights.columns = ['Topic ' + str(i) for i in range(1,13)]\n",
    "df_weights"
   ]
  },
  {
   "cell_type": "markdown",
   "metadata": {
    "papermill": {
     "duration": 0.064816,
     "end_time": "2021-03-27T08:14:00.882341",
     "exception": false,
     "start_time": "2021-03-27T08:14:00.817525",
     "status": "completed"
    },
    "tags": []
   },
   "source": [
    "# Topic Labeling"
   ]
  },
  {
   "cell_type": "code",
   "execution_count": null,
   "metadata": {
    "execution": {
     "iopub.execute_input": "2021-03-27T08:14:01.018020Z",
     "iopub.status.busy": "2021-03-27T08:14:01.017005Z",
     "iopub.status.idle": "2021-03-27T08:14:01.101976Z",
     "shell.execute_reply": "2021-03-27T08:14:01.101286Z"
    },
    "papermill": {
     "duration": 0.155136,
     "end_time": "2021-03-27T08:14:01.102099",
     "exception": false,
     "start_time": "2021-03-27T08:14:00.946963",
     "status": "completed"
    },
    "tags": []
   },
   "outputs": [],
   "source": [
    "topic = list(df_weights.idxmax(axis=1))"
   ]
  },
  {
   "cell_type": "code",
   "execution_count": null,
   "metadata": {
    "execution": {
     "iopub.execute_input": "2021-03-27T08:14:01.240317Z",
     "iopub.status.busy": "2021-03-27T08:14:01.239368Z",
     "iopub.status.idle": "2021-03-27T08:14:01.242477Z",
     "shell.execute_reply": "2021-03-27T08:14:01.242962Z"
    },
    "papermill": {
     "duration": 0.076643,
     "end_time": "2021-03-27T08:14:01.243119",
     "exception": false,
     "start_time": "2021-03-27T08:14:01.166476",
     "status": "completed"
    },
    "tags": []
   },
   "outputs": [],
   "source": [
    "\n",
    "df['Topics'] = topic"
   ]
  },
  {
   "cell_type": "code",
   "execution_count": null,
   "metadata": {
    "execution": {
     "iopub.execute_input": "2021-03-27T08:14:01.389839Z",
     "iopub.status.busy": "2021-03-27T08:14:01.389163Z",
     "iopub.status.idle": "2021-03-27T08:14:01.393908Z",
     "shell.execute_reply": "2021-03-27T08:14:01.393365Z"
    },
    "papermill": {
     "duration": 0.085631,
     "end_time": "2021-03-27T08:14:01.394037",
     "exception": false,
     "start_time": "2021-03-27T08:14:01.308406",
     "status": "completed"
    },
    "tags": []
   },
   "outputs": [],
   "source": [
    "score = list(df_weights.max(axis=1))"
   ]
  },
  {
   "cell_type": "code",
   "execution_count": null,
   "metadata": {
    "execution": {
     "iopub.execute_input": "2021-03-27T08:14:01.537709Z",
     "iopub.status.busy": "2021-03-27T08:14:01.536876Z",
     "iopub.status.idle": "2021-03-27T08:14:01.540907Z",
     "shell.execute_reply": "2021-03-27T08:14:01.540327Z"
    },
    "papermill": {
     "duration": 0.081574,
     "end_time": "2021-03-27T08:14:01.541020",
     "exception": false,
     "start_time": "2021-03-27T08:14:01.459446",
     "status": "completed"
    },
    "tags": []
   },
   "outputs": [],
   "source": [
    "df['Correlation Score'] = score"
   ]
  },
  {
   "cell_type": "code",
   "execution_count": null,
   "metadata": {
    "execution": {
     "iopub.execute_input": "2021-03-27T08:14:01.676985Z",
     "iopub.status.busy": "2021-03-27T08:14:01.676319Z",
     "iopub.status.idle": "2021-03-27T08:14:02.458930Z",
     "shell.execute_reply": "2021-03-27T08:14:02.459554Z"
    },
    "papermill": {
     "duration": 0.853183,
     "end_time": "2021-03-27T08:14:02.459767",
     "exception": false,
     "start_time": "2021-03-27T08:14:01.606584",
     "status": "completed"
    },
    "tags": []
   },
   "outputs": [],
   "source": [
    "df.to_csv('topic_wise_pandas_related_sentences.csv')"
   ]
  },
  {
   "cell_type": "code",
   "execution_count": null,
   "metadata": {
    "execution": {
     "iopub.execute_input": "2021-03-27T08:14:02.595531Z",
     "iopub.status.busy": "2021-03-27T08:14:02.594746Z",
     "iopub.status.idle": "2021-03-27T08:14:09.990148Z",
     "shell.execute_reply": "2021-03-27T08:14:09.989579Z"
    },
    "papermill": {
     "duration": 7.465531,
     "end_time": "2021-03-27T08:14:09.990282",
     "exception": false,
     "start_time": "2021-03-27T08:14:02.524751",
     "status": "completed"
    },
    "tags": []
   },
   "outputs": [],
   "source": [
    "df.to_excel('topic_wise_pandas_related_sentences.xlsx')"
   ]
  },
  {
   "cell_type": "code",
   "execution_count": null,
   "metadata": {
    "execution": {
     "iopub.execute_input": "2021-03-27T08:14:10.129670Z",
     "iopub.status.busy": "2021-03-27T08:14:10.128754Z",
     "iopub.status.idle": "2021-03-27T08:14:10.157544Z",
     "shell.execute_reply": "2021-03-27T08:14:10.158068Z"
    },
    "papermill": {
     "duration": 0.101383,
     "end_time": "2021-03-27T08:14:10.158203",
     "exception": false,
     "start_time": "2021-03-27T08:14:10.056820",
     "status": "completed"
    },
    "tags": []
   },
   "outputs": [],
   "source": [
    "df.groupby('Topics')['sentence'].nunique()"
   ]
  }
 ],
 "metadata": {
  "kernelspec": {
   "display_name": "Python 3 (ipykernel)",
   "language": "python",
   "name": "python3"
  },
  "language_info": {
   "codemirror_mode": {
    "name": "ipython",
    "version": 3
   },
   "file_extension": ".py",
   "mimetype": "text/x-python",
   "name": "python",
   "nbconvert_exporter": "python",
   "pygments_lexer": "ipython3",
   "version": "3.9.13"
  },
  "papermill": {
   "duration": 460.682256,
   "end_time": "2021-03-27T08:14:10.335267",
   "environment_variables": {},
   "exception": null,
   "input_path": "__notebook__.ipynb",
   "output_path": "__notebook__.ipynb",
   "parameters": {},
   "start_time": "2021-03-27T08:06:29.653011",
   "version": "2.1.0"
  }
 },
 "nbformat": 4,
 "nbformat_minor": 4
}
